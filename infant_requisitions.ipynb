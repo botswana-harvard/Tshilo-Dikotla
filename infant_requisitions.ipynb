{
 "cells": [
  {
   "cell_type": "code",
   "execution_count": 7,
   "metadata": {},
   "outputs": [],
   "source": [
    "from td_lab.models import InfantRequisition"
   ]
  },
  {
   "cell_type": "code",
   "execution_count": 8,
   "metadata": {},
   "outputs": [],
   "source": [
    "infant_requisition = InfantRequisition.objects.all()"
   ]
  },
  {
   "cell_type": "code",
   "execution_count": 9,
   "metadata": {},
   "outputs": [],
   "source": [
    "rs_fields = [\n",
    "    'subject_identifier', 'maternal_identifier', 'dob', 'gender', 'subject_type']\n",
    "visit_fields = [\n",
    "    'visit_datetime', 'study_status', 'reason', 'survival_status', 'last_alive_date', 'infant_visit_id']\n",
    "visit_defination_fields = ['visit_code', 'visit_title', 'time_point']\n",
    "appointment_fields = ['appt_status', 'appt_datetime', 'timepoint_datetime', 'best_appt_datetime']"
   ]
  },
  {
   "cell_type": "code",
   "execution_count": 10,
   "metadata": {},
   "outputs": [],
   "source": [
    "requisition_fields = ['created',\n",
    " 'modified',\n",
    " 'user_created',\n",
    " 'user_modified',\n",
    " 'hostname_created',\n",
    " 'hostname_modified',\n",
    " 'revision',\n",
    " 'id',\n",
    " 'report_datetime',\n",
    " 'exported',\n",
    " 'exported_datetime',\n",
    " 'export_change_type',\n",
    " 'export_uuid',\n",
    " 'subject_identifier',\n",
    " 'requisition_identifier',\n",
    " 'requisition_datetime',\n",
    " 'specimen_identifier',\n",
    " 'protocol',\n",
    " 'study_site',\n",
    " 'clinician_initials',\n",
    " 'priority',\n",
    " 'is_drawn',\n",
    " 'reason_not_drawn',\n",
    " 'drawn_datetime',\n",
    " 'item_type',\n",
    " 'item_count_total',\n",
    " 'estimated_volume',\n",
    " 'comments',\n",
    " 'is_receive',\n",
    " 'is_receive_datetime',\n",
    " 'is_packed',\n",
    " 'is_labelled',\n",
    " 'is_labelled_datetime',\n",
    " 'is_lis',\n",
    " 'packing_list_id',\n",
    " 'aliquot_type_id',\n",
    " 'panel_name',\n",
    " 'reason_not_drawn_other',\n",
    " 'test_code']\n",
    "header = rs_fields + visit_fields + visit_defination_fields + appointment_fields + requisition_fields\n",
    "data = [header]\n",
    "for m_requisition in infant_requisition:\n",
    "    visit = m_requisition.infant_visit\n",
    "    appointment = visit.appointment\n",
    "    rs = appointment.registered_subject\n",
    "    visit_defination = appointment.visit_definition\n",
    "\n",
    "    # Registered_subject data\n",
    "    rs_data = []\n",
    "    for rs_f in rs_fields:\n",
    "        if rs_f == 'maternal_identifier':\n",
    "            subject_identifier = rs.subject_identifier\n",
    "            rs_data.append(subject_identifier[:-3])\n",
    "        else:\n",
    "            rs_data.append(getattr(rs, rs_f))\n",
    "\n",
    "    # Visit data\n",
    "    v_data = []\n",
    "    for v_f in visit_fields:\n",
    "        if v_f == 'infant_visit_id':\n",
    "            v_data.append(getattr(visit, 'id'))\n",
    "        elif v_f == 'visit_datetime':\n",
    "            v_data.append(getattr(visit, 'report_datetime'))\n",
    "        else:\n",
    "            v_data.append(getattr(visit, v_f))\n",
    "\n",
    "    # Visit defination data\n",
    "    vdef_data = []\n",
    "    for vdef_f in visit_defination_fields:\n",
    "        if vdef_f == 'visit_code':\n",
    "            vdef_data.append(getattr(visit_defination, 'code'))\n",
    "        elif vdef_f == 'visit_title':\n",
    "            vdef_data.append(getattr(visit_defination, 'title'))\n",
    "        else:\n",
    "            vdef_data.append(getattr(visit_defination, vdef_f))\n",
    "\n",
    "    # Appointment data\n",
    "    app_data = []\n",
    "    for ap_f in appointment_fields:\n",
    "        app_data.append(getattr(appointment, ap_f))\n",
    "\n",
    "    # Requisition data\n",
    "    requisition_data = []\n",
    "    for req_f in requisition_fields:\n",
    "        if req_f == 'panel_name':\n",
    "            requisition_data.append(m_requisition.panel.name)\n",
    "        else:\n",
    "            value = getattr(m_requisition, req_f)\n",
    "            if not value:\n",
    "                value = '.'\n",
    "            requisition_data.append(value)\n",
    "    all_data = rs_data + v_data + vdef_data + app_data + requisition_data\n",
    "    data.append(all_data)"
   ]
  },
  {
   "cell_type": "code",
   "execution_count": 11,
   "metadata": {},
   "outputs": [
    {
     "name": "stdout",
     "output_type": "stream",
     "text": [
      "3501\n"
     ]
    }
   ],
   "source": [
    "print(len(data))\n",
    "import csv\n",
    "with open('td_lab_infantrequisition.csv', 'w+') as f:\n",
    "    writer = csv.writer(f)\n",
    "    writer.writerows(data)"
   ]
  },
  {
   "cell_type": "code",
   "execution_count": null,
   "metadata": {},
   "outputs": [],
   "source": []
  }
 ],
 "metadata": {
  "kernelspec": {
   "display_name": "Django Shell-Plus",
   "language": "python",
   "name": "django_extensions"
  },
  "language_info": {
   "codemirror_mode": {
    "name": "ipython",
    "version": 3
   },
   "file_extension": ".py",
   "mimetype": "text/x-python",
   "name": "python",
   "nbconvert_exporter": "python",
   "pygments_lexer": "ipython3",
   "version": "3.5.0"
  }
 },
 "nbformat": 4,
 "nbformat_minor": 2
}
